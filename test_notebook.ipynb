{
 "cells": [
  {
   "cell_type": "code",
   "execution_count": 12,
   "metadata": {},
   "outputs": [],
   "source": [
    "import streamlit as st\n",
    "from PyPDF2 import PdfReader\n",
    "import requests"
   ]
  },
  {
   "cell_type": "code",
   "execution_count": null,
   "metadata": {},
   "outputs": [],
   "source": [
    "# replace in app.py with this after API is ready\n",
    "\n",
    "# main Streamlit app\n",
    "def main():\n",
    "    st.title('neuroCraft - text classification and simplification for neurodivergent readers and learners.')\n",
    "\n",
    "    uploaded_file = st.file_uploader(\"Upload a PDF file\", type=\"pdf\") # as of now, the first PDF page must contian the text to classify and simplify in English\n",
    "    if uploaded_file:\n",
    "        pdf_reader = PdfReader(uploaded_file)\n",
    "        # assuming only the first page of the PDF will be processed\n",
    "        page = pdf_reader.pages[0]\n",
    "        text = page.extract_text()\n",
    "\n",
    "        # display the extracted text\n",
    "        st.subheader(\"Extracted Text from PDF:\")\n",
    "        st.write(text)\n",
    "\n",
    "        # classify the text via the API\n",
    "        classification_result = classify(text)\n",
    "        st.subheader(\"Classification Result:\")\n",
    "        st.write(classification_result)\n",
    "\n",
    "        # simplify the text via the API\n",
    "        simplified_text = simplify(text)\n",
    "        st.subheader(\"Simplified Text:\")\n",
    "        st.write(simplified_text)\n",
    "\n",
    "if __name__ == '__main__':\n",
    "    main()"
   ]
  },
  {
   "cell_type": "code",
   "execution_count": null,
   "metadata": {},
   "outputs": [],
   "source": [
    "# CSS font file example\n",
    "\n",
    "@import url('https://fonts.googleapis.com/css2?family=Roboto:wght@100&display=swap');\n",
    "\n",
    "html, body, [class*=\"css\"] {\n",
    "    font-family: 'Roboto', sans-serif;\n",
    "    color: white;\n",
    "}"
   ]
  },
  {
   "cell_type": "code",
   "execution_count": null,
   "metadata": {},
   "outputs": [],
   "source": [
    "@font-face {\n",
    "  font-family: 'OpenDyslexic';\n",
    "  src: url('./font/OpenDyslexic-Regular.woff') format('woff'), /* WOFF format */\n",
    "       url('./font/OpenDyslexic-Regular.otf') format('opentype'); /* OTF format */\n",
    "  /* additional font properties or font-weight could be set here */\n",
    "}\n",
    "\n",
    "/* apply the font-family to elements */\n",
    "html, body, [class*=\"css\"] {\n",
    "  font-family: 'OpenDyslexic', sans-serif;\n",
    "  color: black;\n",
    "  /* additional styles */\n",
    "\n",
    "  /* Update the background color */\n",
    "  background-color: #fffdd0; /* Cream color */\n",
    "}\n",
    "\n",
    "/* Change the color of horizontal lines (markdown '***' syntax) */\n",
    "hr {\n",
    "  border-color: black; /* Set the color of horizontal lines to black */\n",
    "}"
   ]
  },
  {
   "cell_type": "markdown",
   "metadata": {},
   "source": [
    "# Implement style\n",
    "- OpenDyslexic or arial font\n",
    "- Large font size, at least 20\n",
    "- Larger inter-letter/inter-line spacing\n",
    "- Underline only in hyperlinks\n",
    "- No italics, bold for emphasis\n",
    "- Avoid all caps\n",
    "- Cream background, single color, no transparency\n",
    "- Avoid red/green"
   ]
  }
 ],
 "metadata": {
  "kernelspec": {
   "display_name": "neuroCraft",
   "language": "python",
   "name": "python3"
  },
  "language_info": {
   "codemirror_mode": {
    "name": "ipython",
    "version": 3
   },
   "file_extension": ".py",
   "mimetype": "text/x-python",
   "name": "python",
   "nbconvert_exporter": "python",
   "pygments_lexer": "ipython3",
   "version": "3.10.6"
  }
 },
 "nbformat": 4,
 "nbformat_minor": 2
}
